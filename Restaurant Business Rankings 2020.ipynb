{
 "cells": [
  {
   "cell_type": "markdown",
   "metadata": {},
   "source": [
    "# Restaurant Business Rankings 2020\n",
    "\n",
    "<ol>\n",
    "    <li> \n",
    "        <a href=\"#1.\">Importing Libraries and Loading Data</a>\n",
    "    </li>\n",
    "    <li> \n",
    "        <a href=\"#2.\">Top 250 Restaurants</a>\n",
    "        <ul style=\"list-style: none;\">\n",
    "            <li>\n",
    "                2.1 <a href=\"#2.1\">Normalizing Data and Extracting Features</a>\n",
    "                <ul style=\"list-style: none;\">\n",
    "                    <li>\n",
    "                        2.1.1 <a href=\"#2.1.1\">Standarizing Columns</a>\n",
    "                    </li>\n",
    "                </ul>\n",
    "            </li>\n",
    "            <li>\n",
    "                2.2 <a href=\"#2.2\">Exploratory Data Analysis</a>\n",
    "                <ul style=\"list-style: none;\">\n",
    "                    <li>\n",
    "                        2.2.1 <a href=\"#2.2.1\">Analyzing Single Variables</a>\n",
    "                        <ul style=\"list-style: none;\">\n",
    "                            <li>\n",
    "                                2.2.1.1 <a href=\"#2.2.1.1\">Category</a>\n",
    "                            </li>\n",
    "                            <li>\n",
    "                                2.2.1.2 <a href=\"#2.2.1.2\">Headquarters</a>\n",
    "                            </li>\n",
    "                        </ul>\n",
    "                    </li>\n",
    "                </ul>\n",
    "            </li>\n",
    "        </ul>\n",
    "    </li>\n",
    "</ol>"
   ]
  },
  {
   "cell_type": "markdown",
   "metadata": {},
   "source": [
    "<a id=\"1.\"></a>"
   ]
  },
  {
   "cell_type": "markdown",
   "metadata": {},
   "source": [
    "# 1. Importing Libraries and Loading Data"
   ]
  },
  {
   "cell_type": "code",
   "execution_count": 21,
   "metadata": {},
   "outputs": [],
   "source": [
    "# data handling and stats\n",
    "import pandas as pd\n",
    "import numpy as np\n",
    "import scipy\n",
    "\n",
    "# visualization\n",
    "import matplotlib.pyplot as plt\n",
    "from pywaffle import Waffle\n",
    "import seaborn as sns\n",
    "\n",
    "# machine learning\n",
    "from sklearn.preprocessing import LabelEncoder"
   ]
  },
  {
   "cell_type": "code",
   "execution_count": 22,
   "metadata": {},
   "outputs": [],
   "source": [
    "# Uncomment cells to download the datasets\n",
    "\n",
    "#!wget https://raw.githubusercontent.com/ftarantuviez/Restaurant-Business-Rankings-2020/master/datasets/Future50.csv -P datasets\n",
    "#!wget https://raw.githubusercontent.com/ftarantuviez/Restaurant-Business-Rankings-2020/master/datasets/Independence100.csv -P datasets\n",
    "#!wget https://raw.githubusercontent.com/ftarantuviez/Restaurant-Business-Rankings-2020/master/datasets/Top250.csv -P datasets"
   ]
  },
  {
   "cell_type": "markdown",
   "metadata": {},
   "source": [
    "### Load datasets"
   ]
  },
  {
   "cell_type": "code",
   "execution_count": 23,
   "metadata": {},
   "outputs": [],
   "source": [
    "df_top = pd.read_csv(\"datasets/Top250.csv\")\n",
    "df_ind = pd.read_csv(\"datasets/Independence100.csv\")\n",
    "df_fut = pd.read_csv(\"datasets/Future50.csv\")"
   ]
  },
  {
   "cell_type": "code",
   "execution_count": 24,
   "metadata": {},
   "outputs": [
    {
     "name": "stdout",
     "output_type": "stream",
     "text": [
      "The shape of Top250 dataset is (250, 9)\n",
      "The shape of Independence100 dataset is (100, 7)\n",
      "The shape of Future50 dataset is (50, 9)\n"
     ]
    }
   ],
   "source": [
    "print(\"The shape of Top250 dataset is {}\".format(df_top.shape))\n",
    "print(\"The shape of Independence100 dataset is {}\".format(df_ind.shape))\n",
    "print(\"The shape of Future50 dataset is {}\".format(df_fut.shape))"
   ]
  },
  {
   "cell_type": "markdown",
   "metadata": {},
   "source": [
    "The number of observations are the expected, 250 for the 250 top restaurants, a hundred for the 100 best independece restaurants and just fifty for the future 50. However we see that the independence dataset has two column less than the other two datasets."
   ]
  },
  {
   "cell_type": "markdown",
   "metadata": {},
   "source": [
    "<a id=\"2.\"></a>"
   ]
  },
  {
   "cell_type": "markdown",
   "metadata": {},
   "source": [
    "# 2. Top 250 restaurants\n",
    "\n",
    "First we will start analyzing the dataset of the 250 top restaurants in the world. And to understand the data, below is a description of all the features in the dataset"
   ]
  },
  {
   "cell_type": "markdown",
   "metadata": {},
   "source": [
    "- Rank: Ranking position\n",
    "- Restaurant: Restaurant name\n",
    "- Content: Description, only for certain restaurants\n",
    "- Sales: in 2019 ($000000)\n",
    "- YOY_sales: Year on year sales increase in %\n",
    "- Units: Number of premises in US\n",
    "- YOY_units: Year on year units increase in %\n",
    "- Headquarters: Place of the restaurant's headquarters\n",
    "- Segment_Category: Menu type and / or industry segment"
   ]
  },
  {
   "cell_type": "code",
   "execution_count": 25,
   "metadata": {},
   "outputs": [
    {
     "data": {
      "text/html": [
       "<div>\n",
       "<style scoped>\n",
       "    .dataframe tbody tr th:only-of-type {\n",
       "        vertical-align: middle;\n",
       "    }\n",
       "\n",
       "    .dataframe tbody tr th {\n",
       "        vertical-align: top;\n",
       "    }\n",
       "\n",
       "    .dataframe thead th {\n",
       "        text-align: right;\n",
       "    }\n",
       "</style>\n",
       "<table border=\"1\" class=\"dataframe\">\n",
       "  <thead>\n",
       "    <tr style=\"text-align: right;\">\n",
       "      <th></th>\n",
       "      <th>Rank</th>\n",
       "      <th>Restaurant</th>\n",
       "      <th>Content</th>\n",
       "      <th>Sales</th>\n",
       "      <th>YOY_Sales</th>\n",
       "      <th>Units</th>\n",
       "      <th>YOY_Units</th>\n",
       "      <th>Headquarters</th>\n",
       "      <th>Segment_Category</th>\n",
       "    </tr>\n",
       "  </thead>\n",
       "  <tbody>\n",
       "    <tr>\n",
       "      <th>0</th>\n",
       "      <td>1</td>\n",
       "      <td>McDonald's</td>\n",
       "      <td>NaN</td>\n",
       "      <td>40412</td>\n",
       "      <td>4.9%</td>\n",
       "      <td>13846</td>\n",
       "      <td>-0.5%</td>\n",
       "      <td>NaN</td>\n",
       "      <td>Quick Service &amp; Burger</td>\n",
       "    </tr>\n",
       "    <tr>\n",
       "      <th>1</th>\n",
       "      <td>2</td>\n",
       "      <td>Starbucks</td>\n",
       "      <td>NaN</td>\n",
       "      <td>21380</td>\n",
       "      <td>8.6%</td>\n",
       "      <td>15049</td>\n",
       "      <td>3.0%</td>\n",
       "      <td>NaN</td>\n",
       "      <td>Quick Service &amp; Coffee Cafe</td>\n",
       "    </tr>\n",
       "    <tr>\n",
       "      <th>2</th>\n",
       "      <td>3</td>\n",
       "      <td>Chick-fil-A</td>\n",
       "      <td>While Popeyes got a lot of the chicken buzz in...</td>\n",
       "      <td>11320</td>\n",
       "      <td>13.0%</td>\n",
       "      <td>2470</td>\n",
       "      <td>5.0%</td>\n",
       "      <td>NaN</td>\n",
       "      <td>Quick Service &amp; Chicken</td>\n",
       "    </tr>\n",
       "    <tr>\n",
       "      <th>3</th>\n",
       "      <td>4</td>\n",
       "      <td>Taco Bell</td>\n",
       "      <td>NaN</td>\n",
       "      <td>11293</td>\n",
       "      <td>9.0%</td>\n",
       "      <td>6766</td>\n",
       "      <td>2.7%</td>\n",
       "      <td>NaN</td>\n",
       "      <td>Quick Service &amp; Mexican</td>\n",
       "    </tr>\n",
       "    <tr>\n",
       "      <th>4</th>\n",
       "      <td>5</td>\n",
       "      <td>Burger King</td>\n",
       "      <td>NaN</td>\n",
       "      <td>10204</td>\n",
       "      <td>2.7%</td>\n",
       "      <td>7346</td>\n",
       "      <td>0.2%</td>\n",
       "      <td>NaN</td>\n",
       "      <td>Quick Service &amp; Burger</td>\n",
       "    </tr>\n",
       "  </tbody>\n",
       "</table>\n",
       "</div>"
      ],
      "text/plain": [
       "   Rank   Restaurant                                            Content  \\\n",
       "0     1   McDonald's                                                NaN   \n",
       "1     2    Starbucks                                                NaN   \n",
       "2     3  Chick-fil-A  While Popeyes got a lot of the chicken buzz in...   \n",
       "3     4    Taco Bell                                                NaN   \n",
       "4     5  Burger King                                                NaN   \n",
       "\n",
       "   Sales YOY_Sales  Units YOY_Units Headquarters             Segment_Category  \n",
       "0  40412      4.9%  13846     -0.5%          NaN       Quick Service & Burger  \n",
       "1  21380      8.6%  15049      3.0%          NaN  Quick Service & Coffee Cafe  \n",
       "2  11320     13.0%   2470      5.0%          NaN      Quick Service & Chicken  \n",
       "3  11293      9.0%   6766      2.7%          NaN      Quick Service & Mexican  \n",
       "4  10204      2.7%   7346      0.2%          NaN       Quick Service & Burger  "
      ]
     },
     "execution_count": 25,
     "metadata": {},
     "output_type": "execute_result"
    }
   ],
   "source": [
    "df_top.head()"
   ]
  },
  {
   "cell_type": "markdown",
   "metadata": {},
   "source": [
    "<a id=\"2.1\"></a>"
   ]
  },
  {
   "cell_type": "markdown",
   "metadata": {},
   "source": [
    "## 2.1 Normalizing Data and Extracting Features\n",
    "\n",
    "To facilitate the process of data analysis and data processing is a good approach follow some standards. Also, extracting some new features from the base one can be very useful for exploratory data analysis."
   ]
  },
  {
   "cell_type": "markdown",
   "metadata": {},
   "source": [
    "<a id=\"2.1.1\"></a>"
   ]
  },
  {
   "cell_type": "markdown",
   "metadata": {},
   "source": [
    "### 2.1.1 Standarizing Columns\n",
    "\n",
    "First we are gonna make all the columns names as lowercase"
   ]
  },
  {
   "cell_type": "code",
   "execution_count": 26,
   "metadata": {},
   "outputs": [
    {
     "data": {
      "text/html": [
       "<div>\n",
       "<style scoped>\n",
       "    .dataframe tbody tr th:only-of-type {\n",
       "        vertical-align: middle;\n",
       "    }\n",
       "\n",
       "    .dataframe tbody tr th {\n",
       "        vertical-align: top;\n",
       "    }\n",
       "\n",
       "    .dataframe thead th {\n",
       "        text-align: right;\n",
       "    }\n",
       "</style>\n",
       "<table border=\"1\" class=\"dataframe\">\n",
       "  <thead>\n",
       "    <tr style=\"text-align: right;\">\n",
       "      <th></th>\n",
       "      <th>rank</th>\n",
       "      <th>restaurant</th>\n",
       "      <th>description</th>\n",
       "      <th>sales</th>\n",
       "      <th>YOY_sales</th>\n",
       "      <th>units</th>\n",
       "      <th>YOY_units</th>\n",
       "      <th>headquarters</th>\n",
       "      <th>category</th>\n",
       "    </tr>\n",
       "  </thead>\n",
       "  <tbody>\n",
       "    <tr>\n",
       "      <th>0</th>\n",
       "      <td>1</td>\n",
       "      <td>McDonald's</td>\n",
       "      <td>NaN</td>\n",
       "      <td>40412</td>\n",
       "      <td>4.9%</td>\n",
       "      <td>13846</td>\n",
       "      <td>-0.5%</td>\n",
       "      <td>NaN</td>\n",
       "      <td>Quick Service &amp; Burger</td>\n",
       "    </tr>\n",
       "    <tr>\n",
       "      <th>1</th>\n",
       "      <td>2</td>\n",
       "      <td>Starbucks</td>\n",
       "      <td>NaN</td>\n",
       "      <td>21380</td>\n",
       "      <td>8.6%</td>\n",
       "      <td>15049</td>\n",
       "      <td>3.0%</td>\n",
       "      <td>NaN</td>\n",
       "      <td>Quick Service &amp; Coffee Cafe</td>\n",
       "    </tr>\n",
       "    <tr>\n",
       "      <th>2</th>\n",
       "      <td>3</td>\n",
       "      <td>Chick-fil-A</td>\n",
       "      <td>While Popeyes got a lot of the chicken buzz in...</td>\n",
       "      <td>11320</td>\n",
       "      <td>13.0%</td>\n",
       "      <td>2470</td>\n",
       "      <td>5.0%</td>\n",
       "      <td>NaN</td>\n",
       "      <td>Quick Service &amp; Chicken</td>\n",
       "    </tr>\n",
       "    <tr>\n",
       "      <th>3</th>\n",
       "      <td>4</td>\n",
       "      <td>Taco Bell</td>\n",
       "      <td>NaN</td>\n",
       "      <td>11293</td>\n",
       "      <td>9.0%</td>\n",
       "      <td>6766</td>\n",
       "      <td>2.7%</td>\n",
       "      <td>NaN</td>\n",
       "      <td>Quick Service &amp; Mexican</td>\n",
       "    </tr>\n",
       "    <tr>\n",
       "      <th>4</th>\n",
       "      <td>5</td>\n",
       "      <td>Burger King</td>\n",
       "      <td>NaN</td>\n",
       "      <td>10204</td>\n",
       "      <td>2.7%</td>\n",
       "      <td>7346</td>\n",
       "      <td>0.2%</td>\n",
       "      <td>NaN</td>\n",
       "      <td>Quick Service &amp; Burger</td>\n",
       "    </tr>\n",
       "  </tbody>\n",
       "</table>\n",
       "</div>"
      ],
      "text/plain": [
       "   rank   restaurant                                        description  \\\n",
       "0     1   McDonald's                                                NaN   \n",
       "1     2    Starbucks                                                NaN   \n",
       "2     3  Chick-fil-A  While Popeyes got a lot of the chicken buzz in...   \n",
       "3     4    Taco Bell                                                NaN   \n",
       "4     5  Burger King                                                NaN   \n",
       "\n",
       "   sales YOY_sales  units YOY_units headquarters                     category  \n",
       "0  40412      4.9%  13846     -0.5%          NaN       Quick Service & Burger  \n",
       "1  21380      8.6%  15049      3.0%          NaN  Quick Service & Coffee Cafe  \n",
       "2  11320     13.0%   2470      5.0%          NaN      Quick Service & Chicken  \n",
       "3  11293      9.0%   6766      2.7%          NaN      Quick Service & Mexican  \n",
       "4  10204      2.7%   7346      0.2%          NaN       Quick Service & Burger  "
      ]
     },
     "execution_count": 26,
     "metadata": {},
     "output_type": "execute_result"
    }
   ],
   "source": [
    "columns_names = {\n",
    "    \"Rank\": \"rank\",\n",
    "    \"Restaurant\": \"restaurant\",\n",
    "    \"Content\": \"description\",\n",
    "    \"Sales\": \"sales\",\n",
    "    \"YOY_Sales\": \"YOY_sales\",\n",
    "    \"Units\": \"units\",\n",
    "    \"YOY_Units\": \"YOY_units\",\n",
    "    \"Headquarters\": \"headquarters\",\n",
    "    \"Segment_Category\": \"category\"\n",
    "}\n",
    "\n",
    "\n",
    "df_top.rename(columns_names, axis=1, inplace=True)\n",
    "df_top.head()"
   ]
  },
  {
   "cell_type": "markdown",
   "metadata": {},
   "source": [
    "Then we can see that the variables which represent a percentage are in other type than number. This is because they have the sign of percentage %, so are converted to a string. Which I gonna do is create a new features with the same value but without that sign, and in a numerical format."
   ]
  },
  {
   "cell_type": "code",
   "execution_count": 27,
   "metadata": {},
   "outputs": [
    {
     "data": {
      "text/plain": [
       "YOY_sales    object\n",
       "YOY_units    object\n",
       "dtype: object"
      ]
     },
     "execution_count": 27,
     "metadata": {},
     "output_type": "execute_result"
    }
   ],
   "source": [
    "df_top[[\"YOY_sales\", \"YOY_units\"]].dtypes"
   ]
  },
  {
   "cell_type": "code",
   "execution_count": 28,
   "metadata": {},
   "outputs": [
    {
     "data": {
      "text/html": [
       "<div>\n",
       "<style scoped>\n",
       "    .dataframe tbody tr th:only-of-type {\n",
       "        vertical-align: middle;\n",
       "    }\n",
       "\n",
       "    .dataframe tbody tr th {\n",
       "        vertical-align: top;\n",
       "    }\n",
       "\n",
       "    .dataframe thead th {\n",
       "        text-align: right;\n",
       "    }\n",
       "</style>\n",
       "<table border=\"1\" class=\"dataframe\">\n",
       "  <thead>\n",
       "    <tr style=\"text-align: right;\">\n",
       "      <th></th>\n",
       "      <th>rank</th>\n",
       "      <th>restaurant</th>\n",
       "      <th>description</th>\n",
       "      <th>sales</th>\n",
       "      <th>YOY_sales</th>\n",
       "      <th>units</th>\n",
       "      <th>YOY_units</th>\n",
       "      <th>headquarters</th>\n",
       "      <th>category</th>\n",
       "      <th>YOY_sales_%</th>\n",
       "      <th>YOY_units_%</th>\n",
       "    </tr>\n",
       "  </thead>\n",
       "  <tbody>\n",
       "    <tr>\n",
       "      <th>0</th>\n",
       "      <td>1</td>\n",
       "      <td>McDonald's</td>\n",
       "      <td>NaN</td>\n",
       "      <td>40412</td>\n",
       "      <td>4.9%</td>\n",
       "      <td>13846</td>\n",
       "      <td>-0.5%</td>\n",
       "      <td>NaN</td>\n",
       "      <td>Quick Service &amp; Burger</td>\n",
       "      <td>4.9</td>\n",
       "      <td>-0.5</td>\n",
       "    </tr>\n",
       "    <tr>\n",
       "      <th>1</th>\n",
       "      <td>2</td>\n",
       "      <td>Starbucks</td>\n",
       "      <td>NaN</td>\n",
       "      <td>21380</td>\n",
       "      <td>8.6%</td>\n",
       "      <td>15049</td>\n",
       "      <td>3.0%</td>\n",
       "      <td>NaN</td>\n",
       "      <td>Quick Service &amp; Coffee Cafe</td>\n",
       "      <td>8.6</td>\n",
       "      <td>3.0</td>\n",
       "    </tr>\n",
       "    <tr>\n",
       "      <th>2</th>\n",
       "      <td>3</td>\n",
       "      <td>Chick-fil-A</td>\n",
       "      <td>While Popeyes got a lot of the chicken buzz in...</td>\n",
       "      <td>11320</td>\n",
       "      <td>13.0%</td>\n",
       "      <td>2470</td>\n",
       "      <td>5.0%</td>\n",
       "      <td>NaN</td>\n",
       "      <td>Quick Service &amp; Chicken</td>\n",
       "      <td>13.0</td>\n",
       "      <td>5.0</td>\n",
       "    </tr>\n",
       "    <tr>\n",
       "      <th>3</th>\n",
       "      <td>4</td>\n",
       "      <td>Taco Bell</td>\n",
       "      <td>NaN</td>\n",
       "      <td>11293</td>\n",
       "      <td>9.0%</td>\n",
       "      <td>6766</td>\n",
       "      <td>2.7%</td>\n",
       "      <td>NaN</td>\n",
       "      <td>Quick Service &amp; Mexican</td>\n",
       "      <td>9.0</td>\n",
       "      <td>2.7</td>\n",
       "    </tr>\n",
       "    <tr>\n",
       "      <th>4</th>\n",
       "      <td>5</td>\n",
       "      <td>Burger King</td>\n",
       "      <td>NaN</td>\n",
       "      <td>10204</td>\n",
       "      <td>2.7%</td>\n",
       "      <td>7346</td>\n",
       "      <td>0.2%</td>\n",
       "      <td>NaN</td>\n",
       "      <td>Quick Service &amp; Burger</td>\n",
       "      <td>2.7</td>\n",
       "      <td>0.2</td>\n",
       "    </tr>\n",
       "  </tbody>\n",
       "</table>\n",
       "</div>"
      ],
      "text/plain": [
       "   rank   restaurant                                        description  \\\n",
       "0     1   McDonald's                                                NaN   \n",
       "1     2    Starbucks                                                NaN   \n",
       "2     3  Chick-fil-A  While Popeyes got a lot of the chicken buzz in...   \n",
       "3     4    Taco Bell                                                NaN   \n",
       "4     5  Burger King                                                NaN   \n",
       "\n",
       "   sales YOY_sales  units YOY_units headquarters                     category  \\\n",
       "0  40412      4.9%  13846     -0.5%          NaN       Quick Service & Burger   \n",
       "1  21380      8.6%  15049      3.0%          NaN  Quick Service & Coffee Cafe   \n",
       "2  11320     13.0%   2470      5.0%          NaN      Quick Service & Chicken   \n",
       "3  11293      9.0%   6766      2.7%          NaN      Quick Service & Mexican   \n",
       "4  10204      2.7%   7346      0.2%          NaN       Quick Service & Burger   \n",
       "\n",
       "   YOY_sales_%  YOY_units_%  \n",
       "0          4.9         -0.5  \n",
       "1          8.6          3.0  \n",
       "2         13.0          5.0  \n",
       "3          9.0          2.7  \n",
       "4          2.7          0.2  "
      ]
     },
     "execution_count": 28,
     "metadata": {},
     "output_type": "execute_result"
    }
   ],
   "source": [
    "df_top[\"YOY_sales_%\"] = df_top[\"YOY_sales\"].apply(lambda x: float(x.split(\"%\")[0]))\n",
    "df_top[\"YOY_units_%\"] = df_top[\"YOY_units\"].apply(lambda x: float(x.split(\"%\")[0]))\n",
    "\n",
    "df_top.head()"
   ]
  },
  {
   "cell_type": "markdown",
   "metadata": {},
   "source": [
    "Now let's analyse the feature of \"category\""
   ]
  },
  {
   "cell_type": "code",
   "execution_count": 29,
   "metadata": {},
   "outputs": [
    {
     "data": {
      "text/plain": [
       "(Varied Menu               22\n",
       " Mexican                   14\n",
       " Quick Service & Burger    13\n",
       " Family Style              10\n",
       " Italian/Pizza             10\n",
       " Name: category, dtype: int64,\n",
       " 48)"
      ]
     },
     "execution_count": 29,
     "metadata": {},
     "output_type": "execute_result"
    }
   ],
   "source": [
    "df_top.category.value_counts()[:5], len(df_top.category.value_counts())"
   ]
  },
  {
   "cell_type": "markdown",
   "metadata": {},
   "source": [
    "As we can see, there are a lot of different categories. Also we can notice that some possible values contains two categories differents (for example: \"Quick Service & Seafood\"). What we are gonna do is split this categories into two different one and then get the dummies of all the categories, turning the categorical variable into a lot of numerical features."
   ]
  },
  {
   "cell_type": "code",
   "execution_count": 30,
   "metadata": {},
   "outputs": [],
   "source": [
    "all_categories = []\n",
    "def get_all_categories(df):\n",
    "    for i, category in enumerate(df.category):\n",
    "        categories = category.split(\"&\")\n",
    "        for category in categories:\n",
    "            category = category.lower()\n",
    "            category = category.strip()\n",
    "            category = \"_\".join(category.split())\n",
    "\n",
    "            if category in df.columns.values:\n",
    "                df.at[i, category] = 1\n",
    "            else: \n",
    "                df[category] = 0 \n",
    "                df.at[i, category] = 1"
   ]
  },
  {
   "cell_type": "code",
   "execution_count": 31,
   "metadata": {},
   "outputs": [
    {
     "data": {
      "text/html": [
       "<div>\n",
       "<style scoped>\n",
       "    .dataframe tbody tr th:only-of-type {\n",
       "        vertical-align: middle;\n",
       "    }\n",
       "\n",
       "    .dataframe tbody tr th {\n",
       "        vertical-align: top;\n",
       "    }\n",
       "\n",
       "    .dataframe thead th {\n",
       "        text-align: right;\n",
       "    }\n",
       "</style>\n",
       "<table border=\"1\" class=\"dataframe\">\n",
       "  <thead>\n",
       "    <tr style=\"text-align: right;\">\n",
       "      <th></th>\n",
       "      <th>rank</th>\n",
       "      <th>restaurant</th>\n",
       "      <th>description</th>\n",
       "      <th>sales</th>\n",
       "      <th>YOY_sales</th>\n",
       "      <th>units</th>\n",
       "      <th>YOY_units</th>\n",
       "      <th>headquarters</th>\n",
       "      <th>category</th>\n",
       "      <th>YOY_sales_%</th>\n",
       "      <th>...</th>\n",
       "      <th>steak</th>\n",
       "      <th>seafood</th>\n",
       "      <th>family_casual</th>\n",
       "      <th>asian</th>\n",
       "      <th>snack</th>\n",
       "      <th>beverage</th>\n",
       "      <th>fine_dining</th>\n",
       "      <th>bbq</th>\n",
       "      <th>healthy</th>\n",
       "      <th>ethnic</th>\n",
       "    </tr>\n",
       "  </thead>\n",
       "  <tbody>\n",
       "    <tr>\n",
       "      <th>0</th>\n",
       "      <td>1</td>\n",
       "      <td>McDonald's</td>\n",
       "      <td>NaN</td>\n",
       "      <td>40412</td>\n",
       "      <td>4.9%</td>\n",
       "      <td>13846</td>\n",
       "      <td>-0.5%</td>\n",
       "      <td>NaN</td>\n",
       "      <td>Quick Service &amp; Burger</td>\n",
       "      <td>4.9</td>\n",
       "      <td>...</td>\n",
       "      <td>0</td>\n",
       "      <td>0</td>\n",
       "      <td>0</td>\n",
       "      <td>0</td>\n",
       "      <td>0</td>\n",
       "      <td>0</td>\n",
       "      <td>0</td>\n",
       "      <td>0</td>\n",
       "      <td>0</td>\n",
       "      <td>0</td>\n",
       "    </tr>\n",
       "    <tr>\n",
       "      <th>1</th>\n",
       "      <td>2</td>\n",
       "      <td>Starbucks</td>\n",
       "      <td>NaN</td>\n",
       "      <td>21380</td>\n",
       "      <td>8.6%</td>\n",
       "      <td>15049</td>\n",
       "      <td>3.0%</td>\n",
       "      <td>NaN</td>\n",
       "      <td>Quick Service &amp; Coffee Cafe</td>\n",
       "      <td>8.6</td>\n",
       "      <td>...</td>\n",
       "      <td>0</td>\n",
       "      <td>0</td>\n",
       "      <td>0</td>\n",
       "      <td>0</td>\n",
       "      <td>0</td>\n",
       "      <td>0</td>\n",
       "      <td>0</td>\n",
       "      <td>0</td>\n",
       "      <td>0</td>\n",
       "      <td>0</td>\n",
       "    </tr>\n",
       "    <tr>\n",
       "      <th>2</th>\n",
       "      <td>3</td>\n",
       "      <td>Chick-fil-A</td>\n",
       "      <td>While Popeyes got a lot of the chicken buzz in...</td>\n",
       "      <td>11320</td>\n",
       "      <td>13.0%</td>\n",
       "      <td>2470</td>\n",
       "      <td>5.0%</td>\n",
       "      <td>NaN</td>\n",
       "      <td>Quick Service &amp; Chicken</td>\n",
       "      <td>13.0</td>\n",
       "      <td>...</td>\n",
       "      <td>0</td>\n",
       "      <td>0</td>\n",
       "      <td>0</td>\n",
       "      <td>0</td>\n",
       "      <td>0</td>\n",
       "      <td>0</td>\n",
       "      <td>0</td>\n",
       "      <td>0</td>\n",
       "      <td>0</td>\n",
       "      <td>0</td>\n",
       "    </tr>\n",
       "    <tr>\n",
       "      <th>3</th>\n",
       "      <td>4</td>\n",
       "      <td>Taco Bell</td>\n",
       "      <td>NaN</td>\n",
       "      <td>11293</td>\n",
       "      <td>9.0%</td>\n",
       "      <td>6766</td>\n",
       "      <td>2.7%</td>\n",
       "      <td>NaN</td>\n",
       "      <td>Quick Service &amp; Mexican</td>\n",
       "      <td>9.0</td>\n",
       "      <td>...</td>\n",
       "      <td>0</td>\n",
       "      <td>0</td>\n",
       "      <td>0</td>\n",
       "      <td>0</td>\n",
       "      <td>0</td>\n",
       "      <td>0</td>\n",
       "      <td>0</td>\n",
       "      <td>0</td>\n",
       "      <td>0</td>\n",
       "      <td>0</td>\n",
       "    </tr>\n",
       "    <tr>\n",
       "      <th>4</th>\n",
       "      <td>5</td>\n",
       "      <td>Burger King</td>\n",
       "      <td>NaN</td>\n",
       "      <td>10204</td>\n",
       "      <td>2.7%</td>\n",
       "      <td>7346</td>\n",
       "      <td>0.2%</td>\n",
       "      <td>NaN</td>\n",
       "      <td>Quick Service &amp; Burger</td>\n",
       "      <td>2.7</td>\n",
       "      <td>...</td>\n",
       "      <td>0</td>\n",
       "      <td>0</td>\n",
       "      <td>0</td>\n",
       "      <td>0</td>\n",
       "      <td>0</td>\n",
       "      <td>0</td>\n",
       "      <td>0</td>\n",
       "      <td>0</td>\n",
       "      <td>0</td>\n",
       "      <td>0</td>\n",
       "    </tr>\n",
       "  </tbody>\n",
       "</table>\n",
       "<p>5 rows × 38 columns</p>\n",
       "</div>"
      ],
      "text/plain": [
       "   rank   restaurant                                        description  \\\n",
       "0     1   McDonald's                                                NaN   \n",
       "1     2    Starbucks                                                NaN   \n",
       "2     3  Chick-fil-A  While Popeyes got a lot of the chicken buzz in...   \n",
       "3     4    Taco Bell                                                NaN   \n",
       "4     5  Burger King                                                NaN   \n",
       "\n",
       "   sales YOY_sales  units YOY_units headquarters                     category  \\\n",
       "0  40412      4.9%  13846     -0.5%          NaN       Quick Service & Burger   \n",
       "1  21380      8.6%  15049      3.0%          NaN  Quick Service & Coffee Cafe   \n",
       "2  11320     13.0%   2470      5.0%          NaN      Quick Service & Chicken   \n",
       "3  11293      9.0%   6766      2.7%          NaN      Quick Service & Mexican   \n",
       "4  10204      2.7%   7346      0.2%          NaN       Quick Service & Burger   \n",
       "\n",
       "   YOY_sales_%  ...  steak  seafood  family_casual  asian  snack  beverage  \\\n",
       "0          4.9  ...      0        0              0      0      0         0   \n",
       "1          8.6  ...      0        0              0      0      0         0   \n",
       "2         13.0  ...      0        0              0      0      0         0   \n",
       "3          9.0  ...      0        0              0      0      0         0   \n",
       "4          2.7  ...      0        0              0      0      0         0   \n",
       "\n",
       "   fine_dining  bbq  healthy  ethnic  \n",
       "0            0    0        0       0  \n",
       "1            0    0        0       0  \n",
       "2            0    0        0       0  \n",
       "3            0    0        0       0  \n",
       "4            0    0        0       0  \n",
       "\n",
       "[5 rows x 38 columns]"
      ]
     },
     "execution_count": 31,
     "metadata": {},
     "output_type": "execute_result"
    }
   ],
   "source": [
    "get_all_categories(df_top)\n",
    "df_top.head()"
   ]
  },
  {
   "cell_type": "markdown",
   "metadata": {},
   "source": [
    "There we see the dummies features for all the different categories and their combinations.\n",
    "To check it and prove it that we are in the correct side, let's run a simple test"
   ]
  },
  {
   "cell_type": "code",
   "execution_count": 32,
   "metadata": {},
   "outputs": [
    {
     "name": "stdout",
     "output_type": "stream",
     "text": [
      "There are 19 restaurants with Mexican food\n",
      "And in the dummies are also 19 restaurants\n"
     ]
    }
   ],
   "source": [
    "def check_categories(serie, cat_to_check):\n",
    "    ans = 0\n",
    "    for categories in serie:\n",
    "        if cat_to_check in categories:\n",
    "            ans += 1\n",
    "    return ans\n",
    "\n",
    "print(\"There are {} restaurants with Mexican food\".format(check_categories(df_top.category, \"Mexican\")))\n",
    "print(\"And in the dummies are also {} restaurants\".format(df_top.mexican.sum()))"
   ]
  },
  {
   "cell_type": "markdown",
   "metadata": {},
   "source": [
    "As we see, the logic appears to be in the correct place."
   ]
  },
  {
   "cell_type": "markdown",
   "metadata": {},
   "source": [
    "Now we will add a single feature with the code of each different categories. Notice that here we are not considering the single category for each restaurant, instead the combination (if any). To achieve it, we use LabelEncoder from scikit learn"
   ]
  },
  {
   "cell_type": "code",
   "execution_count": 33,
   "metadata": {},
   "outputs": [
    {
     "data": {
      "text/plain": [
       "array([32, 34, 33, 37, 39, 38, 18, 21,  6, 10, 17, 36,  8, 15,  9,  7, 23,\n",
       "       20, 35, 19,  5, 41, 46, 31, 45, 40, 30, 22, 24, 28, 47, 11, 27, 29,\n",
       "       43, 25, 12,  2, 42,  3,  4,  0, 16,  1, 14, 44, 26, 13])"
      ]
     },
     "execution_count": 33,
     "metadata": {},
     "output_type": "execute_result"
    }
   ],
   "source": [
    "df_top[\"category_code\"] = LabelEncoder().fit_transform(df_top.category)\n",
    "df_top.category_code.unique()"
   ]
  },
  {
   "cell_type": "markdown",
   "metadata": {},
   "source": [
    "An useful technique is bin the numerical data to get categorical one. In this case we are gonna bin the sales and the Year on Year sales percentage."
   ]
  },
  {
   "cell_type": "markdown",
   "metadata": {},
   "source": [
    "Finally, we gonna extract the state of the headquarters in each restaurants.\n",
    "\n",
    "Points to consider: \n",
    "- most restaurants don't have headquarters in the dataset (are NaN values)\n",
    "- the headquarters place are in the format of: City, State (e.g. Dallas, TX)"
   ]
  },
  {
   "cell_type": "code",
   "execution_count": 34,
   "metadata": {},
   "outputs": [
    {
     "data": {
      "text/plain": [
       "65     ON\n",
       "66     FL\n",
       "77     TX\n",
       "101    TX\n",
       "102    TN\n",
       "Name: headquarters_state, dtype: object"
      ]
     },
     "execution_count": 34,
     "metadata": {},
     "output_type": "execute_result"
    }
   ],
   "source": [
    "def get_states(x):\n",
    "    if type(x) == str:\n",
    "        x = x.split(\",\")[1]\n",
    "        x = x.strip()\n",
    "    \n",
    "    return x\n",
    "\n",
    "df_top[\"headquarters_state\"] = df_top.headquarters.apply(get_states)\n",
    "df_top[~df_top[\"headquarters_state\"].isna()][\"headquarters_state\"].head()"
   ]
  },
  {
   "cell_type": "markdown",
   "metadata": {},
   "source": [
    "<a id=\"2.2\"></a>"
   ]
  },
  {
   "cell_type": "markdown",
   "metadata": {},
   "source": [
    "<a id=\"250rest_eda\"></a>"
   ]
  },
  {
   "cell_type": "markdown",
   "metadata": {},
   "source": [
    "## 2.2 Exploratory Data Analysis\n",
    "\n",
    "With the data already normalized, starting exploring the same data is a good idea. This section will be based in data analysis and statistics techniques."
   ]
  },
  {
   "cell_type": "markdown",
   "metadata": {},
   "source": [
    "<a id=\"2.2.1\"></a>"
   ]
  },
  {
   "cell_type": "markdown",
   "metadata": {},
   "source": [
    "### 2.2.1 Analyzing Single Variables\n",
    "\n",
    "First things first. To have a good idea of our data, first we analize the single variables that we already have."
   ]
  },
  {
   "cell_type": "markdown",
   "metadata": {},
   "source": [
    "We create some function that allow us to plot and summarize categorical data"
   ]
  },
  {
   "cell_type": "code",
   "execution_count": 171,
   "metadata": {},
   "outputs": [],
   "source": [
    "def plot_proportions(x, y, title=\"\", theme=None, plot_waffle=False, plot_bar=True, plot_pie=True):\n",
    "    colors = sns.color_palette(theme)\n",
    "    fig1, (ax1, ax2) = plt.subplots(1,2, figsize=(15,7))\n",
    "    fig1.suptitle(title)\n",
    "    \n",
    "    if plot_bar:\n",
    "        # barchart\n",
    "        ax1.bar(height=y, x=x, color=colors)\n",
    "        ax1.plot(y, color=\"red\", label=\"Difference of recurrence\")\n",
    "        ax1.set_xticks([])\n",
    "        ax1.legend()\n",
    "    \n",
    "    if plot_pie:\n",
    "        # pie chart\n",
    "        explode = [.05] + [0]*(len(y)-1)\n",
    "        wedges, texts, autotexts = ax2.pie(x=y, autopct='%1.2f%%', textprops=dict(color=\"w\"), explode=explode, colors=colors)\n",
    "        ax2.legend(wedges, x,\n",
    "          title=\"Category\",\n",
    "          loc=\"center left\",\n",
    "          bbox_to_anchor=(-.5, 0, 0.5, 1.3))\n",
    "    \n",
    "    if plot_waffle:\n",
    "        # waffle chart\n",
    "        fig2 = plt.figure(\n",
    "            FigureClass=Waffle,\n",
    "            rows=5, \n",
    "            columns=10,\n",
    "            values=y,\n",
    "            figsize=(10, 6),\n",
    "            labels=list(x),\n",
    "            legend={'loc': 'upper right', \"bbox_to_anchor\":(1, 0, 0.5, 1), \"title\": \"Enrrollment type\"},\n",
    "            colors=sns.color_palette(\"flare_r\", len(x))\n",
    "        )\n",
    "\n",
    "def create_subset_dataset(counts, col, n, name):\n",
    "    subset = pd.DataFrame(counts[:n]).reset_index()\n",
    "    subset_count = subset.iloc[:,1].rename(\"count\")\n",
    "    subset_val = subset.iloc[:,0].rename(col)\n",
    "    subset = pd.DataFrame([subset_count, subset_val]).T\n",
    "    subset[\"type\"] = name\n",
    "    \n",
    "    return subset\n",
    "    \n",
    "def summary_categorical(df, col, n_to_plot=None):\n",
    "    fifth_per = 0\n",
    "    def print_information(place, i, percentage):\n",
    "        print(\"\"\" \n",
    "            the {} recurrent {} \n",
    "            is **{}** with a count of {} times.\n",
    "            In the entire dataset, it represents a percentage of {} %\n",
    "            \"\"\".format(place, var, x[i], y[i], percentage))\n",
    "        \n",
    "    counts = df[col].value_counts()\n",
    "    x = counts.index.values\n",
    "    y = counts\n",
    "    var = \" \".join(col.split(\"_\"))\n",
    "    title = \"Most Recurrent {}\".format(var)\n",
    "    \n",
    "    if n_to_plot != None:\n",
    "        top = create_subset_dataset(counts, col, n_to_plot, \"top\")\n",
    "        x = top[col]\n",
    "        y = top[\"count\"]\n",
    "        title = \"Top {} {}s (most recurrent)\".format(n_to_plot, var)\n",
    "    \n",
    "    plot_proportions(x,y,title)\n",
    "    \n",
    "    print(\"In the top {}\".format(n_to_plot))\n",
    "    for i, label in zip(range(5), [\"first\", \"second\", \"third\", \"fourth\", \"fifth\"]):\n",
    "        percentage = np.round((counts / len(df[col]))[i] * 100,2)\n",
    "        print_information(label, i, percentage)\n",
    "        fifth_per += percentage\n",
    "    \n",
    "    print(\"The first most common {}, represents a {}% of the whole dataset\".format(var, np.round(fifth_per,2)))"
   ]
  },
  {
   "cell_type": "markdown",
   "metadata": {},
   "source": [
    "Also functions to understand continous data:"
   ]
  },
  {
   "cell_type": "code",
   "execution_count": 172,
   "metadata": {},
   "outputs": [],
   "source": [
    "def summary_continous(df, var):\n",
    "    serie = df[var]\n",
    "    mean = np.round(serie.mean(), 2)\n",
    "    median = np.round(serie.median(), 2)\n",
    "    std = np.round(serie.std(), 2)\n",
    "    var_formatted = \" \".join(var.split(\"_\"))\n",
    "    \n",
    "    fig, axes = plt.subplots(2,2, figsize=(15,8))\n",
    "    plt.suptitle(\"{} -- distribution\".format(var_formatted))\n",
    "    fig.set_facecolor(color=\"#f2f2f2\")\n",
    "    \n",
    "    # kdeplot\n",
    "    kde_ax = axes[1][0]\n",
    "    sns.kdeplot(df[var], fill=True, ax=kde_ax)\n",
    "    kde_yticks = kde_ax.get_yticks()\n",
    "    kde_yticks_half = kde_yticks[(len(kde_yticks) // 2)] - 0.006\n",
    "    kde_ax.vlines(x=mean, ymin=0, ymax=max(kde_yticks), color=\"red\", label=r\"$\\mu$ = {}\".format(mean))\n",
    "    kde_ax.vlines(x=median, ymin=0, ymax=max(kde_yticks), color=\"blue\", label=r\"median = {}\".format(median))\n",
    "    kde_ax.hlines(y=kde_yticks_half, xmin=mean, xmax=mean+std, color=\"green\")\n",
    "    kde_ax.hlines(y=kde_yticks_half, xmin=mean, xmax=mean-std, color=\"green\", label=\"σ = {}\".format(std))\n",
    "    kde_ax.legend()\n",
    "    \n",
    "    # violinplot\n",
    "    vio_plot = axes[1][1]\n",
    "    sns.violinplot(x=df[var], ax=vio_plot)\n",
    "    \n",
    "    # histplot\n",
    "    hist_ax = axes[0][0]\n",
    "    sns.histplot(df[var], ax=hist_ax)\n",
    "    hist_yticks = hist_ax.get_yticks()\n",
    "    hist_ax.vlines(x=mean, ymin=0, ymax=max(hist_yticks), color=\"red\", label=r\"$\\mu$ = {}\".format(mean))\n",
    "    hist_ax.legend()\n",
    "    \n",
    "    # boxplot\n",
    "    box_ax = axes[0][1]\n",
    "    sns.boxplot(x=df[var],ax=box_ax)\n",
    "    \n",
    "    print(\"\"\"The variable **{}** :: \n",
    "            has a range of [{} - {}], \n",
    "            where the mean fall in {} \n",
    "            with a standard deviation of {}, \n",
    "            and the median is equal to {}\"\"\".format(var_formatted, min(serie), max(serie), mean, std, median))"
   ]
  },
  {
   "cell_type": "markdown",
   "metadata": {},
   "source": [
    "Now let's analyse each variable in the dataset."
   ]
  },
  {
   "cell_type": "markdown",
   "metadata": {},
   "source": [
    "<a id=\"2.2.1.1\"></a>"
   ]
  },
  {
   "cell_type": "markdown",
   "metadata": {},
   "source": [
    "#### 2.2.1.1 Category"
   ]
  },
  {
   "cell_type": "code",
   "execution_count": 173,
   "metadata": {},
   "outputs": [
    {
     "data": {
      "text/plain": [
       "0         Quick Service & Burger\n",
       "1    Quick Service & Coffee Cafe\n",
       "2        Quick Service & Chicken\n",
       "3        Quick Service & Mexican\n",
       "4         Quick Service & Burger\n",
       "Name: category, dtype: object"
      ]
     },
     "execution_count": 173,
     "metadata": {},
     "output_type": "execute_result"
    }
   ],
   "source": [
    "category_250 = df_top.category\n",
    "category_250.head()"
   ]
  },
  {
   "cell_type": "markdown",
   "metadata": {},
   "source": [
    "Watching the most common categories ..."
   ]
  },
  {
   "cell_type": "code",
   "execution_count": 174,
   "metadata": {},
   "outputs": [
    {
     "data": {
      "text/plain": [
       "Varied Menu               22\n",
       "Mexican                   14\n",
       "Quick Service & Burger    13\n",
       "Family Style              10\n",
       "Italian/Pizza             10\n",
       "Burger                    10\n",
       "Pizza                      9\n",
       "Steak                      9\n",
       "Name: category, dtype: int64"
      ]
     },
     "execution_count": 174,
     "metadata": {},
     "output_type": "execute_result"
    }
   ],
   "source": [
    "category_250.value_counts().head(8)"
   ]
  },
  {
   "cell_type": "code",
   "execution_count": 175,
   "metadata": {},
   "outputs": [
    {
     "name": "stdout",
     "output_type": "stream",
     "text": [
      "In the top 8\n",
      " \n",
      "            the first recurrent category \n",
      "            is **Varied Menu** with a count of 22 times.\n",
      "            In the entire dataset, it represents a percentage of 8.8 %\n",
      "            \n",
      " \n",
      "            the second recurrent category \n",
      "            is **Mexican** with a count of 14 times.\n",
      "            In the entire dataset, it represents a percentage of 5.6 %\n",
      "            \n",
      " \n",
      "            the third recurrent category \n",
      "            is **Quick Service & Burger** with a count of 13 times.\n",
      "            In the entire dataset, it represents a percentage of 5.2 %\n",
      "            \n",
      " \n",
      "            the fourth recurrent category \n",
      "            is **Family Style** with a count of 10 times.\n",
      "            In the entire dataset, it represents a percentage of 4.0 %\n",
      "            \n",
      " \n",
      "            the fifth recurrent category \n",
      "            is **Italian/Pizza** with a count of 10 times.\n",
      "            In the entire dataset, it represents a percentage of 4.0 %\n",
      "            \n",
      "The first most common category, represents a 27.6% of the whole dataset\n"
     ]
    },
    {
     "data": {
      "image/png": "[encoded data removed]",
      "text/plain": [
       "<Figure size 1080x504 with 2 Axes>"
      ]
     },
     "metadata": {
      "needs_background": "light"
     },
     "output_type": "display_data"
    }
   ],
   "source": [
    "summary_categorical(df_top, \"category\", n_to_plot=8)"
   ]
  },
  {
   "cell_type": "markdown",
   "metadata": {},
   "source": [
    "With the above information we can notice that the most common category in the top 250 restaurants is a Varied Menu, which means that does not have a specific thematic in the restaurant. It represent the 8.8% of the whole dataset (250 restaurants). Then also we can observe that Mexican food represents a 5.6% of the dataset. More generally, the fifth most common categories in the top 250 restaurants represents a 27.6% of the all restaurants."
   ]
  },
  {
   "cell_type": "markdown",
   "metadata": {},
   "source": [
    "<a id=\"2.2.1.2\"> </a>"
   ]
  },
  {
   "cell_type": "markdown",
   "metadata": {},
   "source": [
    "#### 2.2.1.2 Headquarters"
   ]
  },
  {
   "cell_type": "code",
   "execution_count": 176,
   "metadata": {},
   "outputs": [
    {
     "data": {
      "text/plain": [
       "0    NaN\n",
       "1    NaN\n",
       "2    NaN\n",
       "3    NaN\n",
       "4    NaN\n",
       "Name: headquarters, dtype: object"
      ]
     },
     "execution_count": 176,
     "metadata": {},
     "output_type": "execute_result"
    }
   ],
   "source": [
    "headquarters_top = df_top.headquarters\n",
    "headquarters_top.head()"
   ]
  },
  {
   "cell_type": "markdown",
   "metadata": {},
   "source": [
    "[TO CONSIDER]: This variable has a lot of NaN values :p"
   ]
  },
  {
   "cell_type": "code",
   "execution_count": 177,
   "metadata": {},
   "outputs": [
    {
     "data": {
      "text/plain": [
       "NaN            198\n",
       "Dallas, TX       6\n",
       "Irving, TX       3\n",
       "Houston, TX      3\n",
       "Plano, TX        2\n",
       "Addison, TX      2\n",
       "Austin, TX       2\n",
       "Denver, CO       2\n",
       "Name: headquarters, dtype: int64"
      ]
     },
     "execution_count": 177,
     "metadata": {},
     "output_type": "execute_result"
    }
   ],
   "source": [
    "headquarters_top.value_counts(dropna=False).head(8)"
   ]
  },
  {
   "cell_type": "code",
   "execution_count": 178,
   "metadata": {},
   "outputs": [
    {
     "name": "stdout",
     "output_type": "stream",
     "text": [
      "In the top 8\n",
      " \n",
      "            the first recurrent headquarters \n",
      "            is **Dallas, TX** with a count of 6 times.\n",
      "            In the entire dataset, it represents a percentage of 2.4 %\n",
      "            \n",
      " \n",
      "            the second recurrent headquarters \n",
      "            is **Irving, TX** with a count of 3 times.\n",
      "            In the entire dataset, it represents a percentage of 1.2 %\n",
      "            \n",
      " \n",
      "            the third recurrent headquarters \n",
      "            is **Houston, TX** with a count of 3 times.\n",
      "            In the entire dataset, it represents a percentage of 1.2 %\n",
      "            \n",
      " \n",
      "            the fourth recurrent headquarters \n",
      "            is **Plano, TX** with a count of 2 times.\n",
      "            In the entire dataset, it represents a percentage of 0.8 %\n",
      "            \n",
      " \n",
      "            the fifth recurrent headquarters \n",
      "            is **Austin, TX** with a count of 2 times.\n",
      "            In the entire dataset, it represents a percentage of 0.8 %\n",
      "            \n",
      "The first most common headquarters, represents a 6.4% of the whole dataset\n"
     ]
    },
    {
     "data": {
      "image/png": "[encoded data removed]",
      "text/plain": [
       "<Figure size 1080x504 with 2 Axes>"
      ]
     },
     "metadata": {
      "needs_background": "light"
     },
     "output_type": "display_data"
    }
   ],
   "source": [
    "summary_categorical(df_top, \"headquarters\", n_to_plot=8)"
   ]
  },
  {
   "cell_type": "markdown",
   "metadata": {},
   "source": [
    "As we can notice, most of the headquarters are in Dallas, Texas. However, this \"most\" are only 6 restaurants, and also represents just a 2.4% of the dataset. Why? Because, as previously said, there are a lot of NaN values.\n",
    "Maybe a best approach is just analyze the state instead de city-state combination"
   ]
  }
 ],
 "metadata": {
  "kernelspec": {
   "display_name": "Python 3",
   "language": "python",
   "name": "python3"
  },
  "language_info": {
   "codemirror_mode": {
    "name": "ipython",
    "version": 3
   },
   "file_extension": ".py",
   "mimetype": "text/x-python",
   "name": "python",
   "nbconvert_exporter": "python",
   "pygments_lexer": "ipython3",
   "version": "3.8.5"
  }
 },
 "nbformat": 4,
 "nbformat_minor": 4
}
